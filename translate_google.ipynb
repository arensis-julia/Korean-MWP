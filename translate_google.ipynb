{
  "nbformat": 4,
  "nbformat_minor": 0,
  "metadata": {
    "colab": {
      "name": "Translate_Google.ipynb",
      "provenance": [],
      "collapsed_sections": []
    },
    "kernelspec": {
      "name": "python3",
      "display_name": "Python 3"
    },
    "language_info": {
      "name": "python"
    }
  },
  "cells": [
    {
      "cell_type": "code",
      "metadata": {
        "colab": {
          "base_uri": "https://localhost:8080/"
        },
        "id": "zn04Fp-8p3p9",
        "outputId": "4943f9f5-91af-4a52-888f-f08a06b9572a"
      },
      "source": [
        "# Google drive\n",
        "from google.colab import drive\n",
        "drive.mount('/content/drive')"
      ],
      "execution_count": null,
      "outputs": [
        {
          "output_type": "stream",
          "name": "stdout",
          "text": [
            "Mounted at /content/drive\n"
          ]
        }
      ]
    },
    {
      "cell_type": "code",
      "metadata": {
        "id": "WK8WQbzPtwZ0"
      },
      "source": [
        "# aqua-rat json 파일 기준으로 작성된 코드입니다.\n",
        "import pandas as pd\n",
        "from tqdm import tqdm\n",
        "import json\n",
        "import time\n",
        "import os\n",
        "import sys\n",
        "import urllib.request\n",
        "import requests"
      ],
      "execution_count": null,
      "outputs": []
    },
    {
      "cell_type": "code",
      "metadata": {
        "colab": {
          "base_uri": "https://localhost:8080/"
        },
        "id": "wT6ghNJJqN-M",
        "outputId": "0b8c7d48-bfa7-4ce9-807f-f7db86da24f4"
      },
      "source": [
        "# 작업할 Google drive 경로 입력\n",
        "PATH = '/content/drive/MyDrive/Translate_Google'\n",
        "\n",
        "os.chdir(PATH)\n",
        "print(os.getcwd())\n",
        "!ls"
      ],
      "execution_count": null,
      "outputs": [
        {
          "output_type": "stream",
          "name": "stdout",
          "text": [
            "/content/drive/MyDrive/Translate_Google\n",
            " 0_translate_free.csv\t\t    asdiv-a\n",
            " 11_translate.csv\t\t   'Keyword-sentence Prompts_Korean.gsheet'\n",
            " 1819_translate_free.csv\t    mwp-korean-34ea94931579.json\n",
            " 1819_translate_free.gsheet\t    omega-signifier-332318-8141534bafa6.json\n",
            " 24368_translate.csv\t\t    train_태우.json\n",
            " 6532_translate_free.csv\t    Translate_Google_free.ipynb\n",
            " ap04-123456789-a497a5dc89fd.json   Translate_Google.ipynb\n"
          ]
        }
      ]
    },
    {
      "cell_type": "markdown",
      "metadata": {
        "id": "HSzlJ5YtBU4p"
      },
      "source": [
        "\n",
        "\n",
        "---\n",
        "\n"
      ]
    },
    {
      "cell_type": "markdown",
      "metadata": {
        "id": "Jab-QJyK7jE5"
      },
      "source": [
        "Google Translation API  \n",
        "https://cloud.google.com/translate/docs/quickstarts"
      ]
    },
    {
      "cell_type": "code",
      "metadata": {
        "id": "b_YvqTdRcsjM"
      },
      "source": [
        "# Imports the Google Cloud Translation library\n",
        "from google.cloud import translate\n",
        "from google.cloud import storage"
      ],
      "execution_count": null,
      "outputs": []
    },
    {
      "cell_type": "markdown",
      "metadata": {
        "id": "e4uv4mUeQyc6"
      },
      "source": [
        "service_account.json 생성법  \n",
        "https://cloud.google.com/docs/authentication/production?hl=ko"
      ]
    },
    {
      "cell_type": "code",
      "metadata": {
        "colab": {
          "base_uri": "https://localhost:8080/"
        },
        "id": "HCqA7UHccDI9",
        "outputId": "dc3e5021-e35a-45b5-f240-470ca58affc0"
      },
      "source": [
        "# 코드를 사용하여 사용자 인증 정보 전달\n",
        "account_json = \"mwp-korean-34ea94931579.json\"\n",
        "\n",
        "def explicit(account_json='service_account.json'):\n",
        "    # Explicitly use service account credentials by specifying the private key\n",
        "    # file.\n",
        "    storage_client = storage.Client.from_service_account_json(account_json)\n",
        "\n",
        "    # Make an authenticated API request\n",
        "    buckets = list(storage_client.list_buckets())\n",
        "    print(buckets)\n",
        "\n",
        "explicit(account_json)\n",
        "print(account_json)"
      ],
      "execution_count": null,
      "outputs": [
        {
          "output_type": "stream",
          "name": "stdout",
          "text": [
            "[]\n",
            "mwp-korean-34ea94931579.json\n"
          ]
        }
      ]
    },
    {
      "cell_type": "code",
      "metadata": {
        "id": "luILO_opPzD5",
        "colab": {
          "base_uri": "https://localhost:8080/"
        },
        "outputId": "f7e05300-a4d3-4acf-c7bd-08da433c6611"
      },
      "source": [
        "!export GOOGLE_APPLICATION_CREDENTIALS=account_json\n",
        "!echo $GOOGLE_APPLICATION_CREDENTIALS"
      ],
      "execution_count": null,
      "outputs": [
        {
          "output_type": "stream",
          "name": "stdout",
          "text": [
            "\n"
          ]
        }
      ]
    },
    {
      "cell_type": "code",
      "metadata": {
        "colab": {
          "base_uri": "https://localhost:8080/"
        },
        "id": "Avq0ys2XPi92",
        "outputId": "aca0e3cf-4516-42ab-df33-f75f02d235a7"
      },
      "source": [
        "from google.cloud import translate_v2\n",
        "from google.cloud.bigquery.client import Client\n",
        "\n",
        "os.environ['GOOGLE_APPLICATION_CREDENTIALS'] = '/content/drive/MyDrive/Translate_Google/mwp-korean-34ea94931579.json'\n",
        "client = translate_v2.Client()\n",
        "result = client.translate('안녕하세요', target_language='en')\n",
        "print(result['translatedText'])"
      ],
      "execution_count": null,
      "outputs": [
        {
          "output_type": "stream",
          "name": "stdout",
          "text": [
            "Hello\n"
          ]
        }
      ]
    },
    {
      "cell_type": "code",
      "metadata": {
        "id": "eXlIdWiAW09a"
      },
      "source": [
        "before_idx = -1"
      ],
      "execution_count": null,
      "outputs": []
    },
    {
      "cell_type": "code",
      "metadata": {
        "id": "gfBebEk4lMab",
        "colab": {
          "base_uri": "https://localhost:8080/"
        },
        "outputId": "af7671f7-ad8f-4bf1-8a82-a9d16c66ff82"
      },
      "source": [
        "with open(\"train_태우_.json\", encoding='UTF8') as json_file:\n",
        "    # APE210K 기준 attr입니다. 다른 attr이면 수정바람.\n",
        "    question = []\n",
        "    question_trans = []\n",
        "    options = []\n",
        "    correct = []\n",
        "\n",
        "    for idx, line in tqdm(enumerate(json_file)):\n",
        "\n",
        "        \"\"\"if idx > 10:\n",
        "            break\"\"\"\n",
        "\n",
        "        # translate question\n",
        "        j = json.loads(line)\n",
        "        text_question = j['question']\n",
        "        trans_q = client.translate(text_question, target_language=\"ko\")\n",
        "\n",
        "        # save info\n",
        "        question.append(text_question)\n",
        "        question_trans.append(trans_q['translatedText'])\n",
        "        options.append(j['options'])\n",
        "        correct.append(j['correct'])\n",
        "\n",
        "    frame = pd.DataFrame({'question' : question, 'question_trans' : question_trans, 'options' : options, 'correct' : correct})\n",
        "    frame.to_csv(str(idx) + \"_translate.csv\",encoding = 'utf-8')"
      ],
      "execution_count": null,
      "outputs": [
        {
          "output_type": "stream",
          "name": "stderr",
          "text": [
            "24369it [33:38, 12.08it/s]\n"
          ]
        }
      ]
    },
    {
      "cell_type": "code",
      "metadata": {
        "colab": {
          "base_uri": "https://localhost:8080/"
        },
        "id": "lat_910HaXGF",
        "outputId": "3edcc9e2-7d84-4471-9f43-29fb77206814"
      },
      "source": [
        "with open(\"asdiv-a/validset.json\", encoding='UTF8') as json_file:\n",
        "    # asdiv-a 기준 attr입니다. 다른 attr이면 수정바람.\n",
        "    id = []\n",
        "    grade = []\n",
        "    source = []\n",
        "    body = []\n",
        "    body_trans = []\n",
        "    question = []\n",
        "    question_trans = []\n",
        "    solution_type = []\n",
        "    answer = []\n",
        "    formula = []\n",
        "\n",
        "    idx = 0\n",
        "    for line in tqdm(json.loads(json_file.read())):\n",
        "\n",
        "        \"\"\"if idx > 10:\n",
        "            break\"\"\"\n",
        "\n",
        "        # translate body\n",
        "        j = line\n",
        "        text_body = j['Body']\n",
        "        trans_b = client.translate(text_body, target_language=\"ko\")\n",
        "\n",
        "        # translate question\n",
        "        text_question = j['Question']\n",
        "        trans_q = client.translate(text_question, target_language=\"ko\")\n",
        "\n",
        "        # save info\n",
        "        id.append(j['@ID'])\n",
        "        grade.append(j['@Grade'])\n",
        "        source.append(j['@Source'])\n",
        "        body.append(text_body)\n",
        "        body_trans.append(trans_b['translatedText'])\n",
        "        question.append(text_question)\n",
        "        question_trans.append(trans_q['translatedText'])\n",
        "        solution_type.append(j['Solution-Type'])\n",
        "        answer.append(j['Answer'])\n",
        "        formula.append(j['Formula'])\n",
        "\n",
        "        idx -=- 1\n",
        "\n",
        "    frame = pd.DataFrame({'@ID' : id, '@Grade' : grade, '@Source' : source,\n",
        "                          'Body' : body, 'Body_trans' : body_trans,\n",
        "                          'Question' : question, 'Question_trans' : question_trans,\n",
        "                          'Solution-Type' : solution_type, 'Answer' : answer, 'Formula' : formula})\n",
        "    frame.to_csv(str(idx) + \"_translate_.csv\",encoding = 'utf-8')"
      ],
      "execution_count": null,
      "outputs": [
        {
          "output_type": "stream",
          "name": "stderr",
          "text": [
            "100%|██████████| 122/122 [00:20<00:00,  6.06it/s]\n"
          ]
        }
      ]
    }
  ]
}